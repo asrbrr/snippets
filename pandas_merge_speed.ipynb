{
 "cells": [
  {
   "cell_type": "markdown",
   "metadata": {},
   "source": [
    "This experiment shows the speed-ups that merging on the index provides on pandas\n",
    "\n",
    "The case below uses an integer-type unique simple index (ie, not multinex)\n",
    "\n",
    "Amazingly, the speed of the join goes from ~3sec down to ~1ms by using indexes on both tables!!\n"
   ]
  },
  {
   "cell_type": "code",
   "execution_count": 1,
   "metadata": {},
   "outputs": [],
   "source": [
    "import pandas as pd\n",
    "import numpy as np\n",
    "\n",
    "r = np.random.RandomState(123)\n",
    "n_long = 10000000\n",
    "n_short = 1000\n",
    "\n",
    "i_long =  np.arange(n_long)\n",
    "f_long = r.randn(n_long)\n",
    "\n",
    "i_short = np.arange(n_short)\n",
    "f_short = r.randn(n_short)\n",
    "\n",
    "df_long = pd.DataFrame({'key':i_long, 'value':f_long})\n",
    "df_long_index = df_long.copy().set_index('key').sort_index()\n",
    "\n",
    "df_short = pd.DataFrame({'key':i_short, 'value':f_short})\n",
    "df_short_index = df_short.copy().set_index('key').sort_index()\n"
   ]
  },
  {
   "cell_type": "code",
   "execution_count": 2,
   "metadata": {},
   "outputs": [
    {
     "name": "stdout",
     "output_type": "stream",
     "text": [
      "(10000000, 2)\n",
      "(1000, 2)\n"
     ]
    }
   ],
   "source": [
    "print(df_long.shape)\n",
    "print(df_short.shape)\n"
   ]
  },
  {
   "cell_type": "code",
   "execution_count": 3,
   "metadata": {},
   "outputs": [
    {
     "name": "stdout",
     "output_type": "stream",
     "text": [
      "3.1 s ± 28.7 ms per loop (mean ± std. dev. of 7 runs, 1 loop each)\n"
     ]
    }
   ],
   "source": [
    "%%timeit\n",
    "a = pd.merge(df_long, df_short, \n",
    "            left_on='key', right_on='key')\n"
   ]
  },
  {
   "cell_type": "code",
   "execution_count": 4,
   "metadata": {},
   "outputs": [
    {
     "name": "stdout",
     "output_type": "stream",
     "text": [
      "3.08 s ± 79.7 ms per loop (mean ± std. dev. of 7 runs, 1 loop each)\n"
     ]
    }
   ],
   "source": [
    "%%timeit\n",
    "b = pd.merge(df_long, df_short_index, \n",
    "            left_on='key', right_index=True)\n"
   ]
  },
  {
   "cell_type": "code",
   "execution_count": 5,
   "metadata": {},
   "outputs": [
    {
     "name": "stdout",
     "output_type": "stream",
     "text": [
      "3.05 s ± 25.8 ms per loop (mean ± std. dev. of 7 runs, 1 loop each)\n"
     ]
    }
   ],
   "source": [
    "%%timeit\n",
    "c = pd.merge(df_long_index, df_short, \n",
    "            left_index=True, right_on='key')\n"
   ]
  },
  {
   "cell_type": "code",
   "execution_count": 6,
   "metadata": {},
   "outputs": [
    {
     "name": "stdout",
     "output_type": "stream",
     "text": [
      "999 µs ± 34 µs per loop (mean ± std. dev. of 7 runs, 1 loop each)\n"
     ]
    }
   ],
   "source": [
    "%%timeit\n",
    "d = pd.merge(df_long_index, df_short_index, \n",
    "            left_index=True, right_index=True)"
   ]
  }
 ],
 "metadata": {
  "file_extension": ".py",
  "kernelspec": {
   "display_name": "Python 3",
   "language": "python",
   "name": "python3"
  },
  "language_info": {
   "codemirror_mode": {
    "name": "ipython",
    "version": 3
   },
   "file_extension": ".py",
   "mimetype": "text/x-python",
   "name": "python",
   "nbconvert_exporter": "python",
   "pygments_lexer": "ipython3",
   "version": "3.7.3"
  },
  "mimetype": "text/x-python",
  "name": "python",
  "npconvert_exporter": "python",
  "pygments_lexer": "ipython3",
  "version": 3
 },
 "nbformat": 4,
 "nbformat_minor": 2
}
